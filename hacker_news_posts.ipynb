{
 "cells": [
  {
   "cell_type": "markdown",
   "id": "0c52547c-138e-400c-8b7f-e7c1e28fe6c5",
   "metadata": {},
   "source": [
    "<h3>Best Time to Ask Questions in Hacker News - Analyzing Hacker News Posts<h3>"
   ]
  },
  {
   "cell_type": "markdown",
   "id": "b49540a3-f7b7-4a6f-bfa2-8e0cd5591c17",
   "metadata": {},
   "source": [
    "The goal of this analysis was to compare the number of comments received by two types of posts on Hacker News: 'Ask HN' and 'Show HN'. Additionally, I explored how the time of day a post was made influenced the number of comments it received."
   ]
  },
  {
   "cell_type": "markdown",
   "id": "35a1b04f-d7d8-4341-8c7c-7eae7fee3166",
   "metadata": {},
   "source": [
    "I cleaned and processed the dataset of Hacker News submissions to extract relevant features such as the post type and creation time. Then, I calculated the average number of comments for 'Ask HN' and 'Show HN' posts and analyzed whether posts made at specific times received more comments."
   ]
  },
  {
   "cell_type": "markdown",
   "id": "a3a8ae1a-93c4-4ffc-a0ad-1e7054ef822c",
   "metadata": {},
   "source": [
    "The analysis revealed that 'Ask HN' posts generally received more comments on average compared to 'Show HN' posts. Additionally, I found certain time periods where posts received a higher number of comments, possibly reflecting user activity patterns."
   ]
  },
  {
   "cell_type": "code",
   "execution_count": 35,
   "id": "29e52bfa-aa36-462d-94a1-efae757277ae",
   "metadata": {},
   "outputs": [
    {
     "name": "stdout",
     "output_type": "stream",
     "text": [
      "[['id', 'title', 'url', 'num_points', 'num_comments', 'author', 'created_at'], ['12224879', 'Interactive Dynamic Video', 'http://www.interactivedynamicvideo.com/', '386', '52', 'ne0phyte', '8/4/2016 11:52'], ['10975351', 'How to Use Open Source and Shut the Fuck Up at the Same Time', 'http://hueniverse.com/2016/01/26/how-to-use-open-source-and-shut-the-fuck-up-at-the-same-time/', '39', '10', 'josep2', '1/26/2016 19:30'], ['11964716', \"Florida DJs May Face Felony for April Fools' Water Joke\", 'http://www.thewire.com/entertainment/2013/04/florida-djs-april-fools-water-joke/63798/', '2', '1', 'vezycash', '6/23/2016 22:20'], ['11919867', 'Technology ventures: From Idea to Enterprise', 'https://www.amazon.com/Technology-Ventures-Enterprise-Thomas-Byers/dp/0073523429', '3', '1', 'hswarna', '6/17/2016 0:01']]\n"
     ]
    }
   ],
   "source": [
    "from csv import reader \n",
    "\n",
    "with open('hacker_news.csv') as opened_file:\n",
    "    \n",
    "    read_file = reader(opened_file)\n",
    "    hn = list(read_file)\n",
    "\n",
    "print(hn[:5])"
   ]
  },
  {
   "cell_type": "code",
   "execution_count": 37,
   "id": "78aebad4-a270-4672-920c-e7d5f33aac2d",
   "metadata": {},
   "outputs": [
    {
     "name": "stdout",
     "output_type": "stream",
     "text": [
      "[['12224879', 'Interactive Dynamic Video', 'http://www.interactivedynamicvideo.com/', '386', '52', 'ne0phyte', '8/4/2016 11:52'], ['10975351', 'How to Use Open Source and Shut the Fuck Up at the Same Time', 'http://hueniverse.com/2016/01/26/how-to-use-open-source-and-shut-the-fuck-up-at-the-same-time/', '39', '10', 'josep2', '1/26/2016 19:30'], ['11964716', \"Florida DJs May Face Felony for April Fools' Water Joke\", 'http://www.thewire.com/entertainment/2013/04/florida-djs-april-fools-water-joke/63798/', '2', '1', 'vezycash', '6/23/2016 22:20'], ['11919867', 'Technology ventures: From Idea to Enterprise', 'https://www.amazon.com/Technology-Ventures-Enterprise-Thomas-Byers/dp/0073523429', '3', '1', 'hswarna', '6/17/2016 0:01'], ['10301696', 'Note by Note: The Making of Steinway L1037 (2007)', 'http://www.nytimes.com/2007/11/07/movies/07stein.html?_r=0', '8', '2', 'walterbell', '9/30/2015 4:12']]\n"
     ]
    }
   ],
   "source": [
    "headers =  hn[0]\n",
    "hn = hn[1:] # Omit the first row - it contains the headers\n",
    "\n",
    "print(hn[:5])"
   ]
  },
  {
   "cell_type": "code",
   "execution_count": 39,
   "id": "5ee9cb76-dc50-45f2-a4b4-68a47aefee60",
   "metadata": {},
   "outputs": [
    {
     "name": "stdout",
     "output_type": "stream",
     "text": [
      "1744\n",
      "1162\n",
      "17194\n"
     ]
    }
   ],
   "source": [
    "# Initialize empty lists to hold posts of different types\n",
    "ask_posts = []\n",
    "show_posts = []\n",
    "other_posts = []\n",
    "\n",
    "for row in hn:\n",
    "    title = row[1]\n",
    "    if title.lower().startswith('ask hn'):\n",
    "        ask_posts.append(row)\n",
    "    elif title.lower().startswith('show hn'):\n",
    "        show_posts.append(row)\n",
    "    else:\n",
    "        other_posts.append(row)\n",
    "        \n",
    "print(len(ask_posts))\n",
    "print(len(show_posts))\n",
    "print(len(other_posts))"
   ]
  },
  {
   "cell_type": "code",
   "execution_count": 45,
   "id": "fe765806-671c-4926-81c5-521a99dbf761",
   "metadata": {},
   "outputs": [
    {
     "name": "stdout",
     "output_type": "stream",
     "text": [
      "14.038417431192661\n",
      "10.31669535283993\n"
     ]
    }
   ],
   "source": [
    "# Initialize a variable to track the total number of comments for 'Ask HN' posts\n",
    "total_ask_comments = 0\n",
    "\n",
    "for post in ask_posts:\n",
    "    num = post[4]\n",
    "    num_int = int(num)\n",
    "    total_ask_comments += num_int\n",
    "    \n",
    "avg_ask_comments = total_ask_comments / len(ask_posts)\n",
    "\n",
    "print(avg_ask_comments)\n",
    "\n",
    "# Initialize a variable to track the total number of comments for 'Show HN' posts\n",
    "total_show_comments = 0\n",
    "\n",
    "for post in show_posts:\n",
    "    num = post[4]\n",
    "    num_int = int(num)\n",
    "    total_show_comments += num_int\n",
    "    \n",
    "avg_show_comments = total_show_comments / len(show_posts)\n",
    "\n",
    "print(avg_show_comments)"
   ]
  },
  {
   "cell_type": "markdown",
   "id": "bc604b6f-f56a-4cea-8024-1812802b1cb3",
   "metadata": {},
   "source": [
    "On average, 'Ask HN' posts receive more comments"
   ]
  },
  {
   "cell_type": "code",
   "execution_count": 48,
   "id": "5d5be286-d9b5-435a-a1bd-a85047346d40",
   "metadata": {},
   "outputs": [],
   "source": [
    "from datetime import datetime as dt\n",
    "\n",
    "# Initialize an empty list to store the creation time and number of comments for 'Ask HN' posts\n",
    "result_list = []\n",
    "\n",
    "for row in ask_posts:\n",
    "    created_at = row[6]\n",
    "    num_comments = row[4]\n",
    "    result_list.append([created_at, int(num_comments)])\n",
    "    \n",
    "# Initialize dictionaries to store counts of posts and total comments per hour\n",
    "counts_by_hour = {}\n",
    "comments_by_hour = {}\n",
    "\n",
    "for row in result_list:\n",
    "    post_date = row[0]\n",
    "    num_comments = row[1]\n",
    "    datetime_object = dt.strptime(post_date, \"%m/%d/%Y %H:%M\")\n",
    "    hour_date = datetime_object.strftime(\"%H\")\n",
    "    \n",
    "    if hour_date not in counts_by_hour:\n",
    "        counts_by_hour[hour_date] = 1\n",
    "        comments_by_hour[hour_date] = num_comments\n",
    "    else:\n",
    "        counts_by_hour[hour_date] += 1\n",
    "        comments_by_hour[hour_date] += num_comments\n"
   ]
  },
  {
   "cell_type": "code",
   "execution_count": 63,
   "id": "7492329a-1765-4220-b6a9-5fb8c172646b",
   "metadata": {},
   "outputs": [
    {
     "name": "stdout",
     "output_type": "stream",
     "text": [
      "[['09', 5.5777777777777775], ['13', 14.741176470588234], ['10', 13.440677966101696], ['14', 13.233644859813085], ['16', 16.796296296296298], ['23', 7.985294117647059], ['12', 9.41095890410959], ['17', 11.46], ['15', 38.5948275862069], ['21', 16.009174311926607], ['20', 21.525], ['02', 23.810344827586206], ['18', 13.20183486238532], ['03', 7.796296296296297], ['05', 10.08695652173913], ['19', 10.8], ['01', 11.383333333333333], ['22', 6.746478873239437], ['08', 10.25], ['04', 7.170212765957447], ['00', 8.127272727272727], ['06', 9.022727272727273], ['07', 7.852941176470588], ['11', 11.051724137931034]]\n"
     ]
    }
   ],
   "source": [
    "avg_by_hour = []\n",
    "\n",
    "for hour in comments_by_hour:\n",
    "    avg_by_hour.append([hour, comments_by_hour[hour] / counts_by_hour[hour]])\n",
    "\n",
    "print(avg_by_hour)      "
   ]
  },
  {
   "cell_type": "code",
   "execution_count": 65,
   "id": "ffe6c30f-0814-4f47-b91e-f77e460a6bc2",
   "metadata": {},
   "outputs": [
    {
     "name": "stdout",
     "output_type": "stream",
     "text": [
      "[[5.5777777777777775, '09'], [14.741176470588234, '13'], [13.440677966101696, '10'], [13.233644859813085, '14'], [16.796296296296298, '16'], [7.985294117647059, '23'], [9.41095890410959, '12'], [11.46, '17'], [38.5948275862069, '15'], [16.009174311926607, '21'], [21.525, '20'], [23.810344827586206, '02'], [13.20183486238532, '18'], [7.796296296296297, '03'], [10.08695652173913, '05'], [10.8, '19'], [11.383333333333333, '01'], [6.746478873239437, '22'], [10.25, '08'], [7.170212765957447, '04'], [8.127272727272727, '00'], [9.022727272727273, '06'], [7.852941176470588, '07'], [11.051724137931034, '11']]\n"
     ]
    }
   ],
   "source": [
    "swap_avg_by_hour = [] \n",
    "\n",
    "for row in avg_by_hour:\n",
    "    swap_avg_by_hour.append([row[1], row[0]])\n",
    "\n",
    "print(swap_avg_by_hour)\n",
    "                            "
   ]
  },
  {
   "cell_type": "code",
   "execution_count": 67,
   "id": "c5832753-419f-42e9-b983-8cbda7828534",
   "metadata": {},
   "outputs": [
    {
     "name": "stdout",
     "output_type": "stream",
     "text": [
      "[[38.5948275862069, '15'], [23.810344827586206, '02'], [21.525, '20'], [16.796296296296298, '16'], [16.009174311926607, '21']]\n"
     ]
    }
   ],
   "source": [
    "sorted_swap = sorted(swap_avg_by_hour, reverse = True)\n",
    "\n",
    "print(sorted_swap[:5])"
   ]
  },
  {
   "cell_type": "code",
   "execution_count": 69,
   "id": "8db58bd6-0eb3-4806-85d5-aa83722e9780",
   "metadata": {},
   "outputs": [
    {
     "name": "stdout",
     "output_type": "stream",
     "text": [
      "15:00: 38.59 average comments per post\n",
      "02:00: 23.81 average comments per post\n",
      "20:00: 21.52 average comments per post\n",
      "16:00: 16.80 average comments per post\n",
      "21:00: 16.01 average comments per post\n",
      "13:00: 14.74 average comments per post\n",
      "10:00: 13.44 average comments per post\n",
      "14:00: 13.23 average comments per post\n",
      "18:00: 13.20 average comments per post\n",
      "17:00: 11.46 average comments per post\n",
      "01:00: 11.38 average comments per post\n",
      "11:00: 11.05 average comments per post\n",
      "19:00: 10.80 average comments per post\n",
      "08:00: 10.25 average comments per post\n",
      "05:00: 10.09 average comments per post\n",
      "12:00: 9.41 average comments per post\n",
      "06:00: 9.02 average comments per post\n",
      "00:00: 8.13 average comments per post\n",
      "23:00: 7.99 average comments per post\n",
      "07:00: 7.85 average comments per post\n",
      "03:00: 7.80 average comments per post\n",
      "04:00: 7.17 average comments per post\n",
      "22:00: 6.75 average comments per post\n",
      "09:00: 5.58 average comments per post\n"
     ]
    }
   ],
   "source": [
    "for row in sorted_swap:\n",
    "    hour = row[1]\n",
    "    comments = row[0]\n",
    "    datetime_object = dt.strptime(hour, \"%H\")\n",
    "    formatted_date = datetime_object.strftime(\"%H:%M\")\n",
    "    print(f\"{formatted_date}:{comments: .2f} average comments per post\")"
   ]
  },
  {
   "cell_type": "code",
   "execution_count": 77,
   "id": "67314195-2574-407b-9886-9c8fc7e5cd49",
   "metadata": {},
   "outputs": [
    {
     "data": {
      "image/png": "[encoded data removed]",
      "text/plain": [
       "<Figure size 1000x600 with 1 Axes>"
      ]
     },
     "metadata": {},
     "output_type": "display_data"
    }
   ],
   "source": [
    "import matplotlib.pyplot as plt\n",
    "\n",
    "hours = [row[1] for row in swap_avg_by_hour]  \n",
    "avg_comments = [row[0] for row in swap_avg_by_hour]  \n",
    "\n",
    "# Sort the data by hour to display the chart in chronological order\n",
    "sorted_hours, sorted_avg_comments = zip(*sorted(zip(hours, avg_comments)))\n",
    "\n",
    "# Create a bar chart\n",
    "plt.figure(figsize=(10, 6))\n",
    "bars = plt.bar(sorted_hours, sorted_avg_comments, color='skyblue')\n",
    "\n",
    "# Adding labels and title\n",
    "plt.xlabel('Hour of the Day')\n",
    "plt.ylabel('Average Number of Comments')\n",
    "plt.title('Average Number of Comments by Hour')\n",
    "\n",
    "# Rotate the x-axis labels for better readability\n",
    "plt.xticks(rotation=45)\n",
    "\n",
    "# Add the average comments number on top of each bar\n",
    "for bar in bars:\n",
    "    yval = bar.get_height()  # Get the height of each bar (i.e., the average comments)\n",
    "    plt.text(bar.get_x() + bar.get_width() / 2, yval, round(yval, 2), \n",
    "             ha='center', va='bottom', fontsize=10)\n",
    "\n",
    "plt.show()\n"
   ]
  },
  {
   "cell_type": "markdown",
   "id": "e27e3c4c-709e-4893-a217-ae30334fa8e1",
   "metadata": {},
   "source": [
    "On average posts written between 15:00 and 16:00 have more comments. I"
   ]
  },
  {
   "cell_type": "code",
   "execution_count": null,
   "id": "d3af4492-a8f5-461b-b2b2-b58875e311f5",
   "metadata": {},
   "outputs": [],
   "source": []
  }
 ],
 "metadata": {
  "kernelspec": {
   "display_name": "Python 3 (ipykernel)",
   "language": "python",
   "name": "python3"
  },
  "language_info": {
   "codemirror_mode": {
    "name": "ipython",
    "version": 3
   },
   "file_extension": ".py",
   "mimetype": "text/x-python",
   "name": "python",
   "nbconvert_exporter": "python",
   "pygments_lexer": "ipython3",
   "version": "3.12.4"
  }
 },
 "nbformat": 4,
 "nbformat_minor": 5
}
